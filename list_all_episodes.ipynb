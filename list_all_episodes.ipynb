{
 "cells": [
  {
   "cell_type": "code",
   "execution_count": 7,
   "id": "c5482138",
   "metadata": {},
   "outputs": [],
   "source": [
    "import os \n",
    "import audio_metadata\n",
    "import csv\n",
    "import time\n",
    "import pandas as pd"
   ]
  },
  {
   "cell_type": "code",
   "execution_count": 20,
   "id": "e1ca70c4",
   "metadata": {},
   "outputs": [],
   "source": [
    "chart_dict = {}\n",
    "chart_dict['number'] = []\n",
    "chart_dict['title'] = []\n",
    "chart_dict['duration'] = []\n",
    "\n",
    "chart_dict['link'] = []\n",
    "for i, filename in enumerate(os.listdir(r\"D:\\files\\spotify\")):\n",
    "    filename = os.listdir(r\"D:\\files\\spotify\")[i]\n",
    "    source = r'D:\\files\\spotify\\{}'.format(filename)\n",
    "    metadata = audio_metadata.load(source)\n",
    "    number = filename.split(\"_\")[1].split(\".\")[0]\n",
    "    chart_dict['number'].append(number)\n",
    "    chart_dict['title'].append(metadata.tags['title'][0])\n",
    "    duration = round(metadata.streaminfo['duration']/60,2)\n",
    "    chart_dict['duration'].append(duration)\n",
    "    \n",
    "    \n",
    "    chart_dict['link'].append(metadata.tags['WPUB'][0])\n",
    "    \n",
    "    \n",
    "df = pd.DataFrame(chart_dict)"
   ]
  },
  {
   "cell_type": "code",
   "execution_count": 21,
   "id": "efeb00c5",
   "metadata": {},
   "outputs": [],
   "source": [
    "df.to_csv('list_episodes.csv', index = False, header=True)"
   ]
  }
 ],
 "metadata": {
  "kernelspec": {
   "display_name": "Python 3",
   "language": "python",
   "name": "python3"
  },
  "language_info": {
   "codemirror_mode": {
    "name": "ipython",
    "version": 3
   },
   "file_extension": ".py",
   "mimetype": "text/x-python",
   "name": "python",
   "nbconvert_exporter": "python",
   "pygments_lexer": "ipython3",
   "version": "3.8.8"
  }
 },
 "nbformat": 4,
 "nbformat_minor": 5
}
