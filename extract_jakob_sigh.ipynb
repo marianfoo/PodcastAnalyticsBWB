{
 "cells": [
  {
   "cell_type": "code",
   "execution_count": 1,
   "metadata": {},
   "outputs": [],
   "source": [
    "import numpy as np\n",
    "from scipy.io import wavfile\n",
    "from scipy import signal\n",
    "import os\n",
    "import csv   \n",
    "import time"
   ]
  },
  {
   "cell_type": "code",
   "execution_count": null,
   "metadata": {},
   "outputs": [
    {
     "name": "stdout",
     "output_type": "stream",
     "text": [
      "E:\\files\\spotify_wav\\bwb_001.wav\n",
      "0.234375\n",
      "E:\\files\\spotify_wav\\bwb_002.wav\n",
      "4.421875\n",
      "E:\\files\\spotify_wav\\bwb_003.wav\n",
      "9.984375\n",
      "E:\\files\\spotify_wav\\bwb_004.wav\n",
      "14.25\n",
      "E:\\files\\spotify_wav\\bwb_005.wav\n",
      "19.359375\n",
      "E:\\files\\spotify_wav\\bwb_006.wav\n",
      "25.546875\n",
      "E:\\files\\spotify_wav\\bwb_007.wav\n",
      "31.703125\n",
      "E:\\files\\spotify_wav\\bwb_008.wav\n",
      "37.40625\n",
      "E:\\files\\spotify_wav\\bwb_009.wav\n"
     ]
    }
   ],
   "source": [
    "t = time.process_time()\n",
    "for i, filename in enumerate(os.listdir(r\"E:\\files\\spotify_wav\")):\n",
    "    jakob = 'jakob.wav'\n",
    "    filename = os.listdir(r\"E:\\files\\spotify_wav\")[i]\n",
    "    source = r'E:\\files\\spotify_wav\\{}'.format(filename)\n",
    "    print(source)\n",
    "    # read the sample to look for\n",
    "    rate_jakob, jakob = wavfile.read(jakob);\n",
    "    jakob = np.array(jakob[:,0], dtype='float')\n",
    "    ## read the source\n",
    "    rate, source = wavfile.read(source);\n",
    "    source = np.array(source[:,0], dtype='float')\n",
    "    # resample such that both signals are at the same sampling rate (if required)\n",
    "    if rate != rate_jakob:\n",
    "        num = int(np.round(rate*len(jakob)/rate_jakob))\n",
    "        jakob = signal.resample(jakob, num)\n",
    "\n",
    "    x_jakob = np.arange(0, jakob.size) / rate_jakob\n",
    "\n",
    "    x_source = np.arange(0, source.size) / rate\n",
    "\n",
    "    z_jakob = signal.correlate(source, jakob, mode='same')\n",
    "\n",
    "    x_z_jakob = np.arange(0, z_jakob.size) / rate\n",
    "\n",
    "    peaks_jakob = signal.find_peaks(\n",
    "    z_jakob,\n",
    "    height=3500000000000000,\n",
    "    distance=50000\n",
    "    )\n",
    "\n",
    "    peaks_idxs_jakob = peaks_jakob[0]\n",
    "    array = [];\n",
    "    for i, peak_idx in enumerate(peaks_idxs_jakob):\n",
    "        start = (peak_idx-jakob.size/2) / rate\n",
    "        start_m, start_s = divmod(start, 60)\n",
    "        print(f\"peak {i}: jakob {start_m:.0f} minutes, {start_s:.0f} seconds\")\n",
    "        array.append([filename,'jakob',i,start])\n",
    "    end = time.time()\n",
    "    print(time.process_time() - t)\n",
    "\n",
    "    with open('jakob.csv','a', newline='') as f:\n",
    "        for line in array:\n",
    "            writer = csv.writer(f)\n",
    "            writer.writerow(line)\n",
    "\n",
    "        \n",
    "        \n",
    "    \n",
    "    "
   ]
  }
 ],
 "metadata": {
  "kernelspec": {
   "display_name": "Python 3",
   "language": "python",
   "name": "python3"
  },
  "language_info": {
   "codemirror_mode": {
    "name": "ipython",
    "version": 3
   },
   "file_extension": ".py",
   "mimetype": "text/x-python",
   "name": "python",
   "nbconvert_exporter": "python",
   "pygments_lexer": "ipython3",
   "version": "3.8.5"
  }
 },
 "nbformat": 4,
 "nbformat_minor": 4
}
